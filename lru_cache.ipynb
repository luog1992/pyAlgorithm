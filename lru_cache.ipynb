{
 "cells": [
  {
   "cell_type": "markdown",
   "metadata": {},
   "source": [
    "# LRU算法"
   ]
  },
  {
   "cell_type": "markdown",
   "metadata": {},
   "source": [
    "## 使用 OrderedDict 实现"
   ]
  },
  {
   "cell_type": "code",
   "execution_count": 1,
   "metadata": {},
   "outputs": [],
   "source": [
    "from collections import OrderedDict, abc"
   ]
  },
  {
   "cell_type": "code",
   "execution_count": 2,
   "metadata": {},
   "outputs": [],
   "source": [
    "class LRUCacheV1(abc.MutableMapping):\n",
    "    \"\"\"使用OrderedDict实现的 LRU cache\"\"\"\n",
    "    \n",
    "    def __init__(self, size, *args, **kwargs):\n",
    "        self.size = size\n",
    "        # 用 OrderedDict 保存，最近访问过的放在尾部\n",
    "        self._map = OrderedDict(*args, **kwargs)\n",
    "\n",
    "    def __setitem__(self, key, value):\n",
    "        assert value is not None, \"value cannot be None\"\n",
    "\n",
    "        self._map[key] = value\n",
    "        self._map.move_to_end(key)  # 将最新的放在尾部\n",
    "        if len(self._map) > self.size:\n",
    "            self._map.popitem(last=False)  # pop first item\n",
    "\n",
    "    def __getitem__(self, key):\n",
    "        value = self._map.get(key)\n",
    "        if value is None:  # key not exist\n",
    "            return value\n",
    "\n",
    "        self._map.move_to_end(key)\n",
    "        return value\n",
    "\n",
    "    def __delitem__(self, key):\n",
    "        self._map.pop(key)\n",
    "\n",
    "    def __len__(self):\n",
    "        return len(self._map)\n",
    "\n",
    "    def __iter__(self):\n",
    "        for k, v in reversed(self._map.items()):\n",
    "            yield '<%s=%s>' % (k, v)\n",
    "\n",
    "    def __contains__(self, key):\n",
    "        return key in self._map\n",
    "\n",
    "    def __str__(self):\n",
    "        return '<LRUCache1 len=%s %s>' % (len(self._map), list(self))"
   ]
  },
  {
   "cell_type": "code",
   "execution_count": 3,
   "metadata": {},
   "outputs": [
    {
     "name": "stdout",
     "output_type": "stream",
     "text": [
      "len=4\n",
      "<LRUCache1 len=4 ['<d=4>', '<c=3>', '<b=2>', '<a=1>']>\n"
     ]
    }
   ],
   "source": [
    "lru_cache1 = LRUCacheV1(5)\n",
    "lru_cache1['a'] = 1\n",
    "lru_cache1['b'] = 2\n",
    "lru_cache1['c'] = 3\n",
    "lru_cache1['d'] = 4\n",
    "\n",
    "print('len=%s' % len(lru_cache1))\n",
    "print(lru_cache1)"
   ]
  },
  {
   "cell_type": "code",
   "execution_count": 4,
   "metadata": {},
   "outputs": [
    {
     "name": "stdout",
     "output_type": "stream",
     "text": [
      "a=1\n",
      "<LRUCache1 len=4 ['<a=1>', '<d=4>', '<c=3>', '<b=2>']>\n"
     ]
    }
   ],
   "source": [
    "print('a=%s' % lru_cache1.get('a'))\n",
    "print(lru_cache1)  # 'a' moved to the first"
   ]
  },
  {
   "cell_type": "code",
   "execution_count": 5,
   "metadata": {},
   "outputs": [
    {
     "name": "stdout",
     "output_type": "stream",
     "text": [
      "<LRUCache1 len=5 ['<e=5>', '<a=1>', '<d=4>', '<c=3>', '<b=2>']>\n"
     ]
    }
   ],
   "source": [
    "lru_cache1['e'] = 5\n",
    "print(lru_cache1)  # now meet the max size=5"
   ]
  },
  {
   "cell_type": "code",
   "execution_count": 6,
   "metadata": {},
   "outputs": [
    {
     "name": "stdout",
     "output_type": "stream",
     "text": [
      "<LRUCache1 len=5 ['<f=6>', '<e=5>', '<a=1>', '<d=4>', '<c=3>']>\n"
     ]
    }
   ],
   "source": [
    "lru_cache1['f'] = 6\n",
    "print(lru_cache1)  # last item 'b' will be popped"
   ]
  },
  {
   "cell_type": "code",
   "execution_count": 7,
   "metadata": {},
   "outputs": [
    {
     "name": "stdout",
     "output_type": "stream",
     "text": [
      "<LRUCache1 len=4 ['<f=6>', '<e=5>', '<d=4>', '<c=3>']>\n"
     ]
    }
   ],
   "source": [
    "lru_cache1.pop('a')\n",
    "print(lru_cache1)"
   ]
  },
  {
   "cell_type": "markdown",
   "metadata": {},
   "source": [
    "## 使用字典+双向链表实现"
   ]
  },
  {
   "cell_type": "code",
   "execution_count": 8,
   "metadata": {},
   "outputs": [],
   "source": [
    "class Node(object):\n",
    "    \"\"\"双向链表中的节点\"\"\"\n",
    "\n",
    "    def __init__(self, key, val, prev, post):\n",
    "        self.key = key\n",
    "        self.val = val\n",
    "        self.prev = prev\n",
    "        self.post = post\n",
    "\n",
    "    def __repr__(self):\n",
    "        return '<%s=%s>' % (self.key, self.val)"
   ]
  },
  {
   "cell_type": "code",
   "execution_count": 9,
   "metadata": {},
   "outputs": [],
   "source": [
    "class LRUCacheV2(abc.MutableMapping):\n",
    "    \"\"\"使用字典+双向链表实现的LRU cache\"\"\"\n",
    "\n",
    "    def __init__(self, size):\n",
    "        self.size = size\n",
    "        self._map = dict()  # 用于保存 kv\n",
    "        self._len = 0\n",
    "        self._head = Node(None, None, None, None)\n",
    "        self._tail = Node(None, None, None, None)\n",
    "        self._head.post = self._tail\n",
    "        self._tail.prev = self._head\n",
    "\n",
    "    def _add_first(self, node):\n",
    "        node.prev = self._head\n",
    "        node.post = self._head.post\n",
    "        self._head.post.prev = node\n",
    "        self._head.post = node\n",
    "\n",
    "    def _move_to_first(self, node):\n",
    "        self._del_node(node)\n",
    "        self._add_first(node)\n",
    "\n",
    "    def _del_last(self):\n",
    "        last = self._tail.prev\n",
    "        assert last is not self._head\n",
    "        self._del_node(last)\n",
    "        return last\n",
    "\n",
    "    def _del_node(self, node):\n",
    "        prev = node.prev\n",
    "        post = node.post\n",
    "        prev.post = post\n",
    "        post.prev = prev\n",
    "        node.prev = None\n",
    "        node.post = None\n",
    "\n",
    "    def __setitem__(self, key, value):\n",
    "        assert value is not None, \"value cannot be None\"\n",
    "\n",
    "        node = self._map.get(key)\n",
    "        if node is None:\n",
    "            # 新建 node 并插入到 head 后面\n",
    "            node = Node(key, value, None, None)\n",
    "            self._add_first(node)\n",
    "            self._map[key] = node\n",
    "            self._len += 1\n",
    "            if self._len > self.size:\n",
    "                last = self._del_last()\n",
    "                self._map.pop(last.key)\n",
    "                self._len -= 1\n",
    "        else:\n",
    "            # 更新 kv\n",
    "            node.val = val\n",
    "            self.move_to_first(node)\n",
    "\n",
    "    def __getitem__(self, key):\n",
    "        node = self._map.get(key)\n",
    "        if node is None:\n",
    "            return None\n",
    "\n",
    "        self._move_to_first(node)\n",
    "        return node.val\n",
    "\n",
    "    def __delitem__(self, key):\n",
    "        node = self._map.get(key)\n",
    "        if node is None:\n",
    "            return None\n",
    "\n",
    "        self._del_node(node)\n",
    "        self._map.pop(key)\n",
    "        self._len -= 1\n",
    "        return node.val\n",
    "\n",
    "    def __len__(self):\n",
    "        return self._len\n",
    "\n",
    "    def __iter__(self):\n",
    "        node = self._head.post\n",
    "        while node is not self._tail:\n",
    "            yield node\n",
    "            node = node.post\n",
    "\n",
    "    def __str__(self):\n",
    "        return '<LRUCache2 len=%s %s>' % (self._len, list(self))"
   ]
  },
  {
   "cell_type": "code",
   "execution_count": 10,
   "metadata": {},
   "outputs": [
    {
     "name": "stdout",
     "output_type": "stream",
     "text": [
      "len=4\n",
      "<LRUCache2 len=4 [<d=4>, <c=3>, <b=2>, <a=1>]>\n"
     ]
    }
   ],
   "source": [
    "lru_cache2 = LRUCacheV2(5)\n",
    "lru_cache2['a'] = 1\n",
    "lru_cache2['b'] = 2\n",
    "lru_cache2['c'] = 3\n",
    "lru_cache2['d'] = 4\n",
    "\n",
    "print('len=%s' % len(lru_cache2))\n",
    "print(lru_cache2)"
   ]
  },
  {
   "cell_type": "code",
   "execution_count": 11,
   "metadata": {},
   "outputs": [
    {
     "name": "stdout",
     "output_type": "stream",
     "text": [
      "a=1\n",
      "<LRUCache2 len=4 [<a=1>, <d=4>, <c=3>, <b=2>]>\n"
     ]
    }
   ],
   "source": [
    "print('a=%s' % lru_cache2['a']) # 'a' will be move to fist\n",
    "print(lru_cache2)"
   ]
  },
  {
   "cell_type": "code",
   "execution_count": 12,
   "metadata": {},
   "outputs": [
    {
     "name": "stdout",
     "output_type": "stream",
     "text": [
      "<LRUCache2 len=5 [<e=5>, <a=1>, <d=4>, <c=3>, <b=2>]>\n"
     ]
    }
   ],
   "source": [
    "lru_cache2['e'] = 5\n",
    "print(lru_cache2)  # meet max size=5"
   ]
  },
  {
   "cell_type": "code",
   "execution_count": 13,
   "metadata": {},
   "outputs": [
    {
     "name": "stdout",
     "output_type": "stream",
     "text": [
      "<LRUCache2 len=5 [<f=6>, <e=5>, <a=1>, <d=4>, <c=3>]>\n"
     ]
    }
   ],
   "source": [
    "lru_cache2['f'] = 6\n",
    "print(lru_cache2)  # last 'b' will be removed"
   ]
  },
  {
   "cell_type": "code",
   "execution_count": 14,
   "metadata": {},
   "outputs": [
    {
     "name": "stdout",
     "output_type": "stream",
     "text": [
      "<LRUCache2 len=4 [<f=6>, <e=5>, <d=4>, <c=3>]>\n"
     ]
    }
   ],
   "source": [
    "lru_cache2.pop('a')\n",
    "print(lru_cache2)"
   ]
  },
  {
   "cell_type": "code",
   "execution_count": null,
   "metadata": {},
   "outputs": [],
   "source": []
  }
 ],
 "metadata": {
  "kernelspec": {
   "display_name": "Python 3 (ipykernel)",
   "language": "python",
   "name": "python3"
  },
  "language_info": {
   "codemirror_mode": {
    "name": "ipython",
    "version": 3
   },
   "file_extension": ".py",
   "mimetype": "text/x-python",
   "name": "python",
   "nbconvert_exporter": "python",
   "pygments_lexer": "ipython3",
   "version": "3.9.6"
  }
 },
 "nbformat": 4,
 "nbformat_minor": 4
}
