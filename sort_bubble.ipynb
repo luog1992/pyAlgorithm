{
 "cells": [
  {
   "cell_type": "markdown",
   "id": "0403fbb2-bc36-41b4-b227-e4b9338d677a",
   "metadata": {},
   "source": [
    "# 冒泡排序\n",
    "\n",
    "Refs:\n",
    "- https://www.cnblogs.com/onepixel/articles/7674659.html\n",
    "\n",
    "- 平均时间复杂度：$O(n^2)$\n",
    "- 最坏时间复杂度：$O(n^2)$\n",
    "- 空间复杂度：$O(1)$\n",
    "- 稳定性：稳定\n",
    "\n",
    "冒泡排序，**本质是不断把最大的元素交换到末尾**，基本流程：\n",
    "\n",
    "1. 从前往后遍历，若前一个元素比后一个大，则交换两个元素的位置\n",
    "2. 如此遍历一次后，**会将最大的元素交换到最后**\n",
    "3. 不断重复上面的过程，不过注意末尾已排序部分不再需要比较&排序\n",
    "\n",
    "![](https://images2017.cnblogs.com/blog/849589/201710/849589-20171015223238449-2146169197.gif)"
   ]
  },
  {
   "cell_type": "code",
   "execution_count": 4,
   "id": "fc9217de-e48f-4794-a685-f2598d80edf5",
   "metadata": {},
   "outputs": [],
   "source": [
    "%run utils.ipynb"
   ]
  },
  {
   "cell_type": "code",
   "execution_count": 5,
   "id": "050ceedf-d4e8-45eb-99cd-abac3e1010d8",
   "metadata": {},
   "outputs": [],
   "source": [
    "def bubble_sort(items):\n",
    "    len_ = len(items)\n",
    "    cursor = len_      # cursor左边的是未排序的，右侧的是已排序的\n",
    "\n",
    "    while cursor >= 1: # 从右往左遍历 cursor\n",
    "        # 处理 cursor 左侧未排序的部分\n",
    "        tmp_idx = 0\n",
    "        while tmp_idx <= cursor - 1 - 1:  # tmp_idx 最大只能到 cursor 左侧第二位\n",
    "            if items[tmp_idx] > items[tmp_idx + 1]:\n",
    "                items[tmp_idx], items[tmp_idx + 1] = items[tmp_idx + 1], items[tmp_idx]\n",
    "            tmp_idx += 1\n",
    "\n",
    "        # 上面处理完一轮后，最大的会被排到后面, cursor-1 处理下一轮\n",
    "        cursor -= 1\n",
    "\n",
    "    return items, []"
   ]
  },
  {
   "cell_type": "code",
   "execution_count": 6,
   "id": "4050fc70-faf1-42c7-af53-0c80b676541a",
   "metadata": {},
   "outputs": [],
   "source": [
    "test_sort_funtion(bubble_sort)"
   ]
  }
 ],
 "metadata": {
  "interpreter": {
   "hash": "6087c5b07d96623ecdaf3d87bd694cd0358f7f4e8081055d346dcf812d3740ca"
  },
  "kernelspec": {
   "display_name": "Python 3.9.6 64-bit ('venv': venv)",
   "name": "python3"
  },
  "language_info": {
   "codemirror_mode": {
    "name": "ipython",
    "version": 3
   },
   "file_extension": ".py",
   "mimetype": "text/x-python",
   "name": "python",
   "nbconvert_exporter": "python",
   "pygments_lexer": "ipython3",
   "version": "3.9.6"
  }
 },
 "nbformat": 4,
 "nbformat_minor": 5
}
