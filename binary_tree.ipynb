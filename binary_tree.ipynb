{
 "cells": [
  {
   "cell_type": "markdown",
   "metadata": {},
   "source": [
    "# 二叉树"
   ]
  },
  {
   "cell_type": "markdown",
   "metadata": {},
   "source": [
    "## 示例: *python 面向对象编程指南* page132"
   ]
  },
  {
   "cell_type": "code",
   "execution_count": 1,
   "metadata": {},
   "outputs": [],
   "source": [
    "import weakref\n",
    "\n",
    "class TreeNode(object):\n",
    "    \"\"\"叶子节点\"\"\"\n",
    "\n",
    "    def __init__(self, item, less=None, more=None, parent=None):\n",
    "        self.item = item\n",
    "        self.less = less\n",
    "        self.more = more\n",
    "        if parent is not None:\n",
    "            self.parent = parent\n",
    "\n",
    "    def __iter__(self):\n",
    "        if self.less:\n",
    "            for item in iter(self.less):\n",
    "                yield item\n",
    "        yield self.item\n",
    "        if self.more:\n",
    "            for item in iter(self.more):\n",
    "                yield item\n",
    "    \n",
    "    def __repr__(self):\n",
    "        return '<TreeNode item=%s less=%s more=%s parent=%s>' % (\n",
    "            self.item,\n",
    "            self.less.item if self.less is not None else None,\n",
    "            self.more.item if self.more is not None else None,\n",
    "            self.parent.item if self.parent is not None else None,\n",
    "        )\n",
    "        \n",
    "    @property\n",
    "    def parent(self):\n",
    "        return self.parent_wref()\n",
    "\n",
    "    @parent.setter\n",
    "    def parent(self, value):\n",
    "        self.parent_wref = weakref.ref(value)\n",
    "\n",
    "    def find(self, item):\n",
    "        if self.item is None and self.more:  # when is root node\n",
    "            return self.more.find(item)\n",
    "        elif self.item == item:\n",
    "            return self\n",
    "        elif self.item > item and self.less:\n",
    "            return self.less.find(item)\n",
    "        elif self.item < item and self.more:\n",
    "            return self.more.find(item)\n",
    "        raise KeyError\n",
    "\n",
    "    def add(self, item):\n",
    "        if self.item is None:\n",
    "            if self.more:\n",
    "                self.more.add(item)\n",
    "            else:\n",
    "                self.more = TreeNode(item, parent=self)\n",
    "        elif self.item > item:\n",
    "            if self.less:\n",
    "                self.less.add(item)\n",
    "            else:\n",
    "                self.less = TreeNode(item, parent=self)\n",
    "        elif self.item < item:\n",
    "            if self.more:\n",
    "                self.more.add(item)\n",
    "            else:\n",
    "                self.more = TreeNode(item, parent=self)\n",
    "\n",
    "    def remove(self, item):\n",
    "        if self.item is None or item > self.item:\n",
    "            if self.more:\n",
    "                self.more.remove(item)\n",
    "            else:\n",
    "                raise KeyError\n",
    "        elif item < self.item:\n",
    "            if self.less:\n",
    "                self.less.remove(item)\n",
    "            else:\n",
    "                raise KeyError\n",
    "        else:  # self.item == item\n",
    "            if self.less and self.more:  # has two childred\n",
    "                # 用 more tree 的最小节点替换当前节点\n",
    "                successor = self.more._least()\n",
    "                self.item = successor.item\n",
    "                successor.remove(successor.item)\n",
    "            elif self.less:\n",
    "                self._replace(self.less)\n",
    "            elif self.more:\n",
    "                self._replace(self.more)\n",
    "            else:  # no child\n",
    "                self._replace(None)\n",
    "\n",
    "    def _least(self):\n",
    "        if self.less is None:\n",
    "            return self\n",
    "        return self.less._least()\n",
    "\n",
    "    def _replace(self, new=None):\n",
    "        if self.parent:\n",
    "            if self == self.parent.less:\n",
    "                self.parent.less = new\n",
    "            else:\n",
    "                self.parent.more = new\n",
    "        if new is not None:\n",
    "            new.parent = self.parent"
   ]
  },
  {
   "cell_type": "code",
   "execution_count": 2,
   "metadata": {},
   "outputs": [],
   "source": [
    "from collections import MutableSet\n",
    "\n",
    "class Tree(MutableSet):\n",
    "    \"\"\"二叉树\"\"\"\n",
    "\n",
    "    def __init__(self, iterable):\n",
    "        self.root = TreeNode(None)\n",
    "        self.size = 0\n",
    "        if iterable:\n",
    "            for item in iterable:\n",
    "                self.add(item)\n",
    "\n",
    "    def add(self, item):\n",
    "        self.root.add(item)\n",
    "        self.size += 1\n",
    "\n",
    "    def discard(self, item):\n",
    "        try:\n",
    "            self.root.more.remove(item)\n",
    "            self.size -= 1\n",
    "        except KeyError:\n",
    "            pass\n",
    "\n",
    "    def __contains__(self, item):\n",
    "        try:\n",
    "            self.root.more.find(item)\n",
    "            return True\n",
    "        except KeyError:\n",
    "            return Fasle\n",
    "    \n",
    "    def __iter__(self):\n",
    "        for item in iter(self.root.more):\n",
    "            yield item\n",
    "    \n",
    "    def __len__(self):\n",
    "        return self.size"
   ]
  },
  {
   "cell_type": "code",
   "execution_count": 3,
   "metadata": {
    "collapsed": true
   },
   "outputs": [],
   "source": [
    "t = Tree([6, 3, 2, 7, 9, 1, 0])"
   ]
  },
  {
   "cell_type": "code",
   "execution_count": 4,
   "metadata": {},
   "outputs": [
    {
     "data": {
      "text/plain": [
       "[0, 1, 2, 3, 6, 7, 9]"
      ]
     },
     "execution_count": 4,
     "metadata": {},
     "output_type": "execute_result"
    }
   ],
   "source": [
    "list(t)"
   ]
  },
  {
   "cell_type": "code",
   "execution_count": 5,
   "metadata": {},
   "outputs": [
    {
     "data": {
      "text/plain": [
       "7"
      ]
     },
     "execution_count": 5,
     "metadata": {},
     "output_type": "execute_result"
    }
   ],
   "source": [
    "len(t)"
   ]
  },
  {
   "cell_type": "code",
   "execution_count": 6,
   "metadata": {},
   "outputs": [
    {
     "data": {
      "text/plain": [
       "True"
      ]
     },
     "execution_count": 6,
     "metadata": {},
     "output_type": "execute_result"
    }
   ],
   "source": [
    "6 in t"
   ]
  },
  {
   "cell_type": "code",
   "execution_count": 7,
   "metadata": {
    "collapsed": true
   },
   "outputs": [],
   "source": [
    "t.discard(7)"
   ]
  },
  {
   "cell_type": "code",
   "execution_count": 8,
   "metadata": {},
   "outputs": [
    {
     "data": {
      "text/plain": [
       "[0, 1, 2, 3, 6, 9]"
      ]
     },
     "execution_count": 8,
     "metadata": {},
     "output_type": "execute_result"
    }
   ],
   "source": [
    "list(t)"
   ]
  },
  {
   "cell_type": "code",
   "execution_count": 9,
   "metadata": {
    "collapsed": true
   },
   "outputs": [],
   "source": [
    "t.add(8)"
   ]
  },
  {
   "cell_type": "code",
   "execution_count": 10,
   "metadata": {},
   "outputs": [
    {
     "data": {
      "text/plain": [
       "[0, 1, 2, 3, 6, 8, 9]"
      ]
     },
     "execution_count": 10,
     "metadata": {},
     "output_type": "execute_result"
    }
   ],
   "source": [
    "list(t)"
   ]
  },
  {
   "cell_type": "code",
   "execution_count": 11,
   "metadata": {},
   "outputs": [
    {
     "name": "stdout",
     "output_type": "stream",
     "text": [
      "<TreeNode item=6 less=3 more=9 parent=None>\n",
      "<TreeNode item=9 less=8 more=None parent=6>\n"
     ]
    }
   ],
   "source": [
    "node = t.root\n",
    "print node.more\n",
    "\n",
    "more = node.more.more\n",
    "print more"
   ]
  },
  {
   "cell_type": "code",
   "execution_count": 18,
   "metadata": {},
   "outputs": [],
   "source": [
    "# 测试 Tree 的集合属性\n",
    "\n",
    "t1 = Tree(['a', 'c', 'y'])\n",
    "t2 = Tree(['b', 'x', 'e'])\n",
    "union = t1 | t2"
   ]
  },
  {
   "cell_type": "code",
   "execution_count": 19,
   "metadata": {},
   "outputs": [
    {
     "data": {
      "text/plain": [
       "['a', 'b', 'c', 'e', 'x', 'y']"
      ]
     },
     "execution_count": 19,
     "metadata": {},
     "output_type": "execute_result"
    }
   ],
   "source": [
    "list(union)"
   ]
  },
  {
   "cell_type": "code",
   "execution_count": 20,
   "metadata": {},
   "outputs": [
    {
     "data": {
      "text/plain": [
       "True"
      ]
     },
     "execution_count": 20,
     "metadata": {},
     "output_type": "execute_result"
    }
   ],
   "source": [
    "'e' in union"
   ]
  },
  {
   "cell_type": "code",
   "execution_count": 21,
   "metadata": {},
   "outputs": [
    {
     "data": {
      "text/plain": [
       "['a', 'b', 'c', 'x', 'y']"
      ]
     },
     "execution_count": 21,
     "metadata": {},
     "output_type": "execute_result"
    }
   ],
   "source": [
    "union.remove('e')\n",
    "list(union)"
   ]
  },
  {
   "cell_type": "code",
   "execution_count": null,
   "metadata": {
    "collapsed": true
   },
   "outputs": [],
   "source": [
    ""
   ]
  }
 ],
 "metadata": {
  "kernelspec": {
   "display_name": "Python 2",
   "language": "python",
   "name": "python2"
  },
  "language_info": {
   "codemirror_mode": {
    "name": "ipython",
    "version": 2.0
   },
   "file_extension": ".py",
   "mimetype": "text/x-python",
   "name": "python",
   "nbconvert_exporter": "python",
   "pygments_lexer": "ipython2",
   "version": "2.7.13"
  }
 },
 "nbformat": 4,
 "nbformat_minor": 0
}