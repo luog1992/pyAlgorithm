{
 "cells": [
  {
   "cell_type": "markdown",
   "metadata": {},
   "source": [
    "# 使用无序链表实现的映射"
   ]
  },
  {
   "cell_type": "code",
   "execution_count": 1,
   "metadata": {},
   "outputs": [],
   "source": [
    "%run base.ipynb"
   ]
  },
  {
   "cell_type": "code",
   "execution_count": 2,
   "metadata": {},
   "outputs": [],
   "source": [
    "class _Node(object):\n",
    "    def __init__(self, k, v, next_):\n",
    "        self.k = k\n",
    "        self.v = v\n",
    "        self.next_ = next_\n",
    "\n",
    "    def __str__(self):\n",
    "        return '%s:%s' % (self.k, self.v)\n",
    "\n",
    "\n",
    "class LinkedListMapping(MapBase):\n",
    "\n",
    "    _first = None\n",
    "\n",
    "    def print(self):\n",
    "        node = self._first\n",
    "        while node:\n",
    "            print(node, '->', end=' ')\n",
    "            node = node.next_\n",
    "        print(None)\n",
    "\n",
    "    def put(self, k, v):\n",
    "        node = self._first\n",
    "        while node:\n",
    "            if node.k == k:\n",
    "                node.v = v\n",
    "                return\n",
    "            node = node.next_\n",
    "\n",
    "        self._first = _Node(k, v, self._first)\n",
    "\n",
    "    def get(self, k):\n",
    "        node = self._first\n",
    "        while node:\n",
    "            if node.k == k:\n",
    "                return node.v\n",
    "            node = node.next_\n",
    "        return None\n",
    "\n",
    "    def delete(self, k):\n",
    "        if k is None:\n",
    "            return\n",
    "\n",
    "        prev = None\n",
    "        curr = self._first\n",
    "        while curr:\n",
    "            if curr.k == k:\n",
    "                if prev:\n",
    "                    prev.next_ = curr.next_\n",
    "                    return curr.v\n",
    "                else:\n",
    "                    self._first = curr.next_\n",
    "                    return curr.v\n",
    "            prev = curr\n",
    "            curr = curr.next_\n",
    "\n",
    "        return None\n",
    "\n",
    "    def min(self):\n",
    "        if self._first is None:\n",
    "            return None\n",
    "\n",
    "        min_ = self._first.k\n",
    "        node = self._first.next_\n",
    "        while node:            \n",
    "            if node.k < min_:\n",
    "                min_ = node.k\n",
    "            node = node.next_\n",
    "        return min_\n",
    "\n",
    "    def max(self):\n",
    "        if self._first is None:\n",
    "            return None\n",
    "\n",
    "        max_ = self._first.k\n",
    "        node = self._first.next_\n",
    "        while node:\n",
    "            if node.k > max_:\n",
    "                max_ = node.k\n",
    "            node = node.next_\n",
    "        return max_\n",
    "\n",
    "    def keys_between(self, k1, k2):\n",
    "        keys = []\n",
    "        # k1 k2 同时存在/不存在\n",
    "        if k1 is None or k2 is None:\n",
    "            return keys\n",
    "\n",
    "        node = self._first\n",
    "        while node:\n",
    "            if k1 <= node.k <= k2:\n",
    "                keys.append(node.k)\n",
    "            node = node.next_\n",
    "        return sorted(keys)\n",
    "\n",
    "    def floor(self, k):\n",
    "        r = None\n",
    "        if self._first is None:\n",
    "            return r\n",
    "\n",
    "        node = self._first\n",
    "        while node:\n",
    "            if node.k <= k:\n",
    "                if r is None:\n",
    "                    r = node.k\n",
    "                else:\n",
    "                    if node.k > r:\n",
    "                        r = node.k\n",
    "            node = node.next_\n",
    "        return r\n",
    "\n",
    "    def ceiling(self, k):\n",
    "        r = None\n",
    "        if self._first is None:\n",
    "            return r\n",
    "\n",
    "        node = self._first\n",
    "        while node:\n",
    "            if node.k >= k:\n",
    "                if r is None:\n",
    "                    r = node.k\n",
    "                else:\n",
    "                    if node.k < r:\n",
    "                        r = node.k\n",
    "            node = node.next_\n",
    "        return r\n",
    "    \n",
    "    def rank(self, k):\n",
    "        n = 0\n",
    "        node = self._first\n",
    "        while node:\n",
    "            if node.k < k:\n",
    "                n += 1\n",
    "            node = node.next_\n",
    "        return n\n",
    "\n",
    "    def select(self, n):\n",
    "        # 链表是无序的, 要想拿到第n个k 则必须将所有k排序方可\n",
    "        raise NotImplementedError          "
   ]
  },
  {
   "cell_type": "code",
   "execution_count": 3,
   "metadata": {},
   "outputs": [
    {
     "name": "stdout",
     "output_type": "stream",
     "text": [
      "g:10 -> n:9 -> i:8 -> p:7 -> a:5 -> m:4 -> s:2 -> e:1 -> t:3 -> None\n"
     ]
    }
   ],
   "source": [
    "mapping = LinkedListMapping()\n",
    "for v, k in enumerate('t e s t m a p p i n g'.split()):\n",
    "    mapping.put(k, v)\n",
    "\n",
    "mapping.print()"
   ]
  },
  {
   "cell_type": "code",
   "execution_count": 4,
   "metadata": {},
   "outputs": [
    {
     "name": "stdout",
     "output_type": "stream",
     "text": [
      "None\n",
      "n:9 -> i:8 -> p:7 -> a:5 -> m:4 -> s:2 -> e:1 -> t:3 -> None\n"
     ]
    }
   ],
   "source": [
    "mapping.delete('g')\n",
    "print(mapping.get('g'))\n",
    "mapping.print()"
   ]
  },
  {
   "cell_type": "code",
   "execution_count": 5,
   "metadata": {},
   "outputs": [
    {
     "name": "stdout",
     "output_type": "stream",
     "text": [
      "None\n",
      "n:9 -> i:8 -> p:7 -> a:5 -> m:4 -> s:2 -> e:1 -> None\n"
     ]
    }
   ],
   "source": [
    "mapping.delete('t')\n",
    "print(mapping.get('t'))\n",
    "mapping.print()"
   ]
  },
  {
   "cell_type": "code",
   "execution_count": 6,
   "metadata": {},
   "outputs": [
    {
     "name": "stdout",
     "output_type": "stream",
     "text": [
      "n:9 -> i:8 -> p:7 -> a:5 -> s:2 -> e:1 -> None\n"
     ]
    }
   ],
   "source": [
    "mapping.delete('m')\n",
    "mapping.print()"
   ]
  },
  {
   "cell_type": "code",
   "execution_count": 7,
   "metadata": {},
   "outputs": [
    {
     "name": "stdout",
     "output_type": "stream",
     "text": [
      "n:9 -> i:8 -> p:7 -> a:0 -> s:2 -> e:1 -> None\n"
     ]
    }
   ],
   "source": [
    "mapping.put('a', 0)\n",
    "mapping.print()"
   ]
  },
  {
   "cell_type": "code",
   "execution_count": 8,
   "metadata": {},
   "outputs": [
    {
     "name": "stdout",
     "output_type": "stream",
     "text": [
      "x:-1 -> n:9 -> i:8 -> p:7 -> a:0 -> s:2 -> e:1 -> None\n"
     ]
    }
   ],
   "source": [
    "mapping.put('x', -1)\n",
    "mapping.print()"
   ]
  },
  {
   "cell_type": "code",
   "execution_count": 9,
   "metadata": {},
   "outputs": [
    {
     "name": "stdout",
     "output_type": "stream",
     "text": [
      "a\n",
      "x\n"
     ]
    }
   ],
   "source": [
    "print(mapping.min())\n",
    "print(mapping.max())"
   ]
  },
  {
   "cell_type": "code",
   "execution_count": 10,
   "metadata": {},
   "outputs": [
    {
     "name": "stdout",
     "output_type": "stream",
     "text": [
      "['a', 'e', 'i', 'n', 'p', 's', 'x']\n"
     ]
    }
   ],
   "source": [
    "print(mapping.keys())"
   ]
  },
  {
   "cell_type": "code",
   "execution_count": 11,
   "metadata": {},
   "outputs": [
    {
     "name": "stdout",
     "output_type": "stream",
     "text": [
      "['e', 'i', 'n', 'p', 's']\n"
     ]
    }
   ],
   "source": [
    "print(mapping.keys_between('e', 's'))"
   ]
  },
  {
   "cell_type": "code",
   "execution_count": 12,
   "metadata": {},
   "outputs": [
    {
     "name": "stdout",
     "output_type": "stream",
     "text": [
      "1\n"
     ]
    }
   ],
   "source": [
    "print(mapping.rank('e'))"
   ]
  },
  {
   "cell_type": "code",
   "execution_count": 13,
   "metadata": {},
   "outputs": [
    {
     "name": "stdout",
     "output_type": "stream",
     "text": [
      "a\n",
      "i\n",
      "p\n"
     ]
    }
   ],
   "source": [
    "print(mapping.floor('a'))\n",
    "print(mapping.ceiling('i'))\n",
    "print(mapping.ceiling('o'))"
   ]
  },
  {
   "cell_type": "code",
   "execution_count": 14,
   "metadata": {},
   "outputs": [
    {
     "name": "stdout",
     "output_type": "stream",
     "text": [
      "7\n",
      "4\n"
     ]
    }
   ],
   "source": [
    "print(mapping.size())\n",
    "print(mapping.size_between('e', 'p'))"
   ]
  },
  {
   "cell_type": "code",
   "execution_count": null,
   "metadata": {},
   "outputs": [],
   "source": []
  }
 ],
 "metadata": {
  "kernelspec": {
   "display_name": "scientific",
   "language": "python",
   "name": "scientific"
  },
  "language_info": {
   "codemirror_mode": {
    "name": "ipython",
    "version": 3
   },
   "file_extension": ".py",
   "mimetype": "text/x-python",
   "name": "python",
   "nbconvert_exporter": "python",
   "pygments_lexer": "ipython3",
   "version": "3.6.5"
  }
 },
 "nbformat": 4,
 "nbformat_minor": 2
}
