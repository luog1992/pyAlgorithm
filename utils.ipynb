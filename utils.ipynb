{
 "cells": [
  {
   "cell_type": "code",
   "execution_count": 1,
   "metadata": {},
   "outputs": [],
   "source": [
    "def binary_search(lst, val):\n",
    "    \"\"\"二分查找\n",
    "    \"\"\"\n",
    "    lo = 0\n",
    "    hi = len(lst)\n",
    "    while lo < hi:  # 左闭右开 [lo...mid...hi)\n",
    "        mid = lo + (hi - lo) // 2\n",
    "        if  val > lst[mid]:\n",
    "            lo = mid + 1\n",
    "        elif val < lst[mid]:\n",
    "            hi = mid\n",
    "        else:\n",
    "            return True, mid\n",
    "\n",
    "    # 不存在时候返回 lo，也即可以插入 val 的地方\n",
    "    return False, lo"
   ]
  },
  {
   "cell_type": "code",
   "execution_count": 2,
   "metadata": {},
   "outputs": [],
   "source": [
    "from copy import copy\n",
    "\n",
    "\n",
    "def test_sort_funtion(sort_func):\n",
    "    \"\"\"排序函数单测\n",
    "    \"\"\"\n",
    "    cases = [\n",
    "        [],\n",
    "        [1],\n",
    "        [1,2],\n",
    "        [2,1],\n",
    "        [1,1,2,3],\n",
    "        [1,2,3,2],\n",
    "        [1,3,2,2],\n",
    "        [2,1,3,2],\n",
    "        [2,3,1,2],\n",
    "        [3,1,2,2],\n",
    "        [3,2,1,2],\n",
    "        [4,2,6,3,7,2,1,8,6,1,7,4,1,4,7,4,7],\n",
    "    ]\n",
    "    for lst in cases:\n",
    "        origin = copy(lst)\n",
    "        expect = list(sorted(lst))\n",
    "        actual = sort_func(lst)[0]\n",
    "        if actual != expect:\n",
    "            raise AssertionError('%s != %s, origin list=%s' % (actual, expect, origin))"
   ]
  },
  {
   "cell_type": "code",
   "execution_count": 3,
   "metadata": {},
   "outputs": [],
   "source": [
    "from copy import copy\n",
    "\n",
    "\n",
    "def make_sort_function_animation(sort_func):\n",
    "    \"\"\"绘制给定排序函数排序过程的动画\n",
    "    \"\"\"\n",
    "    nums = [4, 2, 9, 5, 8, 6, 1, 7, 3, 6, 8, 1, 2]\n",
    "    sorted_rs, anim_data = sort_func(copy(nums))\n",
    "    assert sorted_rs == list(sorted(nums))\n",
    "    animation = _make_sorting_animation(anim_data)\n",
    "    return animation.to_html5_video()"
   ]
  },
  {
   "cell_type": "code",
   "execution_count": 4,
   "metadata": {},
   "outputs": [],
   "source": [
    "from matplotlib import pyplot as plt\n",
    "from matplotlib import animation\n",
    "from IPython.display import HTML\n",
    "\n",
    "def _make_sorting_animation(data, interval=800):\n",
    "    \"\"\"绘制排序函数动画\n",
    "    \"\"\"\n",
    "    # data = [(0,1, [1,3,2]), (1,2, [1,2,3])]\n",
    "    if not data:\n",
    "        return None\n",
    "\n",
    "    _, _, first = data[0]\n",
    "    x = range(len(first))\n",
    "    fig = plt.figure()\n",
    "    rects = plt.bar(x, first, color='c')\n",
    "    plt.ylim(0, max(first))\n",
    "\n",
    "    def animate(i):\n",
    "        a, b, lst = data[i]\n",
    "        for x in rects:\n",
    "            x.set_color('c')\n",
    "        a is not None and rects[a].set_color('g')\n",
    "        b is not None and rects[b].set_color('r')\n",
    "        for rect, yi in zip(rects, lst):\n",
    "            rect.set_height(yi)\n",
    "        return rects,\n",
    "   \n",
    "    anim = animation.FuncAnimation(fig, animate, frames=len(data), interval=interval)\n",
    "    return anim"
   ]
  },
  {
   "cell_type": "code",
   "execution_count": null,
   "metadata": {},
   "outputs": [],
   "source": []
  }
 ],
 "metadata": {
  "interpreter": {
   "hash": "6087c5b07d96623ecdaf3d87bd694cd0358f7f4e8081055d346dcf812d3740ca"
  },
  "kernelspec": {
   "display_name": "Python 3.9.6 64-bit ('venv': venv)",
   "name": "python3"
  },
  "language_info": {
   "codemirror_mode": {
    "name": "ipython",
    "version": 3
   },
   "file_extension": ".py",
   "mimetype": "text/x-python",
   "name": "python",
   "nbconvert_exporter": "python",
   "pygments_lexer": "ipython3",
   "version": "3.9.6"
  }
 },
 "nbformat": 4,
 "nbformat_minor": 4
}
