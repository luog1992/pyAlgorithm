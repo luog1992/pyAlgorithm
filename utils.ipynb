{
 "cells": [
  {
   "cell_type": "code",
   "execution_count": null,
   "metadata": {},
   "outputs": [],
   "source": [
    "def binary_search_v1(lst, val):\n",
    "    \"\"\"二分查找\"\"\"\n",
    "    lo = 0\n",
    "    hi = len(lst) - 1\n",
    "    while lo <= hi:\n",
    "        mid = lo + (hi - lo) // 2\n",
    "        if  val < lst[mid]:\n",
    "            hi = mid - 1\n",
    "        elif val > lst[mid]:\n",
    "            lo = mid + 1\n",
    "        else:\n",
    "            return mid\n",
    "\n",
    "    # 不存在时候返回 -1\n",
    "    return -1"
   ]
  },
  {
   "cell_type": "code",
   "execution_count": null,
   "metadata": {},
   "outputs": [],
   "source": [
    "def binary_search(lst, val):\n",
    "    \"\"\"二分查找\n",
    "\n",
    "    .. note::\n",
    "        ``val`` 存在时候返回其索引, 否则返回小于 ``val`` 的数量;\n",
    "        换句话说, 无论 ``val`` 存在与否, 返回的值都表示列表中小于\n",
    "        ``val`` 的值的数量.\n",
    "    \"\"\"\n",
    "    lo = 0\n",
    "    hi = len(lst) - 1\n",
    "    while lo <= hi:\n",
    "        mid = lo + (hi - lo) // 2\n",
    "        if  val < lst[mid]:\n",
    "            hi = mid - 1\n",
    "        elif val > lst[mid]:\n",
    "            lo = mid + 1\n",
    "        else:\n",
    "            return mid\n",
    "\n",
    "    # 不存在时候返回 lo\n",
    "    return lo"
   ]
  },
  {
   "cell_type": "code",
   "execution_count": null,
   "metadata": {},
   "outputs": [],
   "source": [
    "def test_sort_funtion(sort_func):\n",
    "    \"\"\"排序函数单测\n",
    "    \"\"\"\n",
    "    cases = [\n",
    "        [],\n",
    "        [1],\n",
    "        [1,2],\n",
    "        [2,1],\n",
    "        [1,1,2,3],\n",
    "        [1,2,3,2],\n",
    "        [1,3,2,2],\n",
    "        [2,1,3,2],\n",
    "        [2,3,1,2],\n",
    "        [3,1,2,2],\n",
    "        [3,2,1,2],\n",
    "        [4,2,6,3,7,2,1,8,6,1,7,4,1,4,7,4,7],\n",
    "    ]\n",
    "    for lst in cases:\n",
    "        assert list(sorted(lst)) == sort_func(lst)[0]"
   ]
  },
  {
   "cell_type": "code",
   "execution_count": null,
   "metadata": {},
   "outputs": [],
   "source": [
    "def make_sort_function_animation(sort_func):\n",
    "    \"\"\"绘制给定排序函数排序过程的动画\n",
    "    \"\"\"\n",
    "    nums = [4, 2, 9, 5, 8, 6, 1, 7, 3, 6, 8, 1, 2]\n",
    "    _, anim_data = sort_func(nums)\n",
    "    animation = _make_sorting_animation(anim_data)\n",
    "    return animation.to_html5_video()"
   ]
  },
  {
   "cell_type": "code",
   "execution_count": null,
   "metadata": {},
   "outputs": [],
   "source": [
    "from matplotlib import pyplot as plt\n",
    "from matplotlib import animation\n",
    "from IPython.display import HTML\n",
    "\n",
    "def _make_sorting_animation(data, interval=800):\n",
    "    \"\"\"绘制排序函数动画\n",
    "    \"\"\"\n",
    "    # data = [(0,1, [1,3,2]), (1,2, [1,2,3])]\n",
    "    if not data:\n",
    "        return None\n",
    "\n",
    "    _, _, first = data[0]\n",
    "    x = range(len(first))\n",
    "    fig = plt.figure()\n",
    "    rects = plt.bar(x, first, color='c')\n",
    "    plt.ylim(0, max(first))\n",
    "\n",
    "    def animate(i):\n",
    "        a, b, lst = data[i]\n",
    "        for x in rects:\n",
    "            x.set_color('c')\n",
    "        a is not None and rects[a].set_color('g')\n",
    "        b is not None and rects[b].set_color('r')\n",
    "        for rect, yi in zip(rects, lst):\n",
    "            rect.set_height(yi)\n",
    "        return rects,\n",
    "   \n",
    "    anim = animation.FuncAnimation(fig, animate, frames=len(data), interval=interval)\n",
    "    return anim"
   ]
  },
  {
   "cell_type": "code",
   "execution_count": null,
   "metadata": {},
   "outputs": [],
   "source": []
  }
 ],
 "metadata": {
  "kernelspec": {
   "display_name": "Python 3 (ipykernel)",
   "language": "python",
   "name": "python3"
  },
  "language_info": {
   "codemirror_mode": {
    "name": "ipython",
    "version": 3
   },
   "file_extension": ".py",
   "mimetype": "text/x-python",
   "name": "python",
   "nbconvert_exporter": "python",
   "pygments_lexer": "ipython3",
   "version": "3.8.10"
  }
 },
 "nbformat": 4,
 "nbformat_minor": 4
}
