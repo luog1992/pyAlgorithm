{
 "cells": [
  {
   "cell_type": "code",
   "execution_count": 1,
   "metadata": {},
   "outputs": [],
   "source": [
    "def binary_search_v1(lst, val):\n",
    "    \"\"\"二分查找\"\"\"\n",
    "    lo = 0\n",
    "    hi = len(lst) - 1\n",
    "    while lo <= hi:\n",
    "        mid = lo + (hi - lo) // 2\n",
    "        if  val < lst[mid]:\n",
    "            hi = mid - 1\n",
    "        elif val > lst[mid]:\n",
    "            lo = mid + 1\n",
    "        else:\n",
    "            return mid\n",
    "\n",
    "    # 不存在时候返回 -1\n",
    "    return -1"
   ]
  },
  {
   "cell_type": "code",
   "execution_count": 2,
   "metadata": {},
   "outputs": [],
   "source": [
    "def binary_search(lst, val):\n",
    "    \"\"\"二分查找\n",
    "\n",
    "    .. note::\n",
    "        ``val`` 存在时候返回其索引, 否则返回小于 ``val`` 的数量;\n",
    "        换句话说, 无论 ``val`` 存在与否, 返回的值都表示列表中小于\n",
    "        ``val`` 的值的数量.\n",
    "    \"\"\"\n",
    "    lo = 0\n",
    "    hi = len(lst) - 1\n",
    "    while lo <= hi:\n",
    "        mid = lo + (hi - lo) // 2\n",
    "        if  val < lst[mid]:\n",
    "            hi = mid - 1\n",
    "        elif val > lst[mid]:\n",
    "            lo = mid + 1\n",
    "        else:\n",
    "            return mid\n",
    "\n",
    "    # 不存在时候返回 lo\n",
    "    return lo"
   ]
  }
 ],
 "metadata": {
  "kernelspec": {
   "display_name": "scientific",
   "language": "python",
   "name": "scientific"
  },
  "language_info": {
   "codemirror_mode": {
    "name": "ipython",
    "version": 3
   },
   "file_extension": ".py",
   "mimetype": "text/x-python",
   "name": "python",
   "nbconvert_exporter": "python",
   "pygments_lexer": "ipython3",
   "version": "3.6.5"
  }
 },
 "nbformat": 4,
 "nbformat_minor": 2
}
