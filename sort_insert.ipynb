{
 "cells": [
  {
   "cell_type": "markdown",
   "id": "52c60484-3718-40a7-b764-49dbd9b720e9",
   "metadata": {
    "tags": []
   },
   "source": [
    "# 插入排序\n",
    "\n",
    "[点击此处查看完整效果](https://nbviewer.org/github/luog1992/pyAlgorithm/blob/master/sort_insertion.ipynb)\n",
    "\n",
    "Refs:\n",
    "- https://zhuanlan.zhihu.com/p/122293204\n",
    "\n",
    "**原理**\n",
    "- 列表左侧是已排序部分、右侧是未排序部分\n",
    "- 对于未排序部分，在已排序部分中**从后向前**扫描，找到相应位置并插入\n",
    "- 因为插入的时要腾出空间来，所以要把插入位置之后的都整体往后移动\n",
    "\n",
    "![](https://raw.githubusercontent.com/luog1992/ipic/master/20211122005621.png)\n",
    "\n",
    "\n",
    "**性能**\n",
    "- 时间复杂度：\n",
    "    - min $O(n)$\n",
    "    - max $O(n^2)$\n",
    "    - avg $O(n^2)$\n",
    "- 空间复杂度：$O(1)$\n",
    "- 稳定性：✅\n",
    "- In-place：✅"
   ]
  },
  {
   "cell_type": "code",
   "execution_count": 1,
   "id": "f2a0dd35-d7ba-4409-8351-60d892fcfaa3",
   "metadata": {},
   "outputs": [],
   "source": [
    "%run utils.ipynb"
   ]
  },
  {
   "cell_type": "code",
   "execution_count": 2,
   "id": "b2e8a2cb-b75f-4860-9d60-ebe47a4a6e31",
   "metadata": {},
   "outputs": [],
   "source": [
    "def insertion_sort_v0(lst):\n",
    "    \"\"\"插入排序\n",
    "    \"\"\"\n",
    "    len_ = len(lst)\n",
    "    sorted_idx = 0                # sorted_idx 左侧的是已排序部分，sorted_idx 及右侧是未排序部分\n",
    "\n",
    "    while sorted_idx < len_:\n",
    "\n",
    "        tmp_idx = sorted_idx - 1  # 从 sorted_idx 处往左遍历、找到合适的位置，将 sorted_idx 处的元素插入\n",
    "        while tmp_idx >= 0:\n",
    "            if lst[tmp_idx] > lst[tmp_idx + 1]:\n",
    "                # 遍历比较的过程中，不断把较大的元素往后移动\n",
    "                lst[tmp_idx], lst[tmp_idx + 1] = lst[tmp_idx + 1], lst[tmp_idx]\n",
    "                tmp_idx -= 1\n",
    "            else:\n",
    "                break\n",
    "\n",
    "        sorted_idx += 1\n",
    "\n",
    "    return lst, []\n",
    "\n",
    "test_sort_funtion(insertion_sort_v0)"
   ]
  },
  {
   "cell_type": "code",
   "execution_count": 3,
   "id": "49d8c2ac-eb05-4885-92ac-836374fae8e8",
   "metadata": {
    "tags": []
   },
   "outputs": [],
   "source": [
    "def insertion_sort_v1(items):\n",
    "    \"\"\"插入排序v2\n",
    "    \"\"\"\n",
    "    len_ = len(items)\n",
    "    # sorted_idx 左侧的是已排序的部分，sorted_idx 及右侧是未排序的部分\n",
    "    sorted_idx = 0\n",
    "    while sorted_idx < len_:\n",
    "\n",
    "        item_to_insert = items[sorted_idx]  # sorted_idx 处的元素将被插入其左侧已排序部分中\n",
    "        item_insert_at = sorted_idx         # 默认值\n",
    "\n",
    "        # 从后往前扫描 sorted_idx 左侧已排序部分，找到合适的插入位置\n",
    "        tmp_idx = sorted_idx - 1\n",
    "        while tmp_idx >= 0:\n",
    "            if items[tmp_idx] > item_to_insert:\n",
    "                items[tmp_idx + 1] = items[tmp_idx]   # 较大的元素往右移动\n",
    "                item_insert_at = tmp_idx\n",
    "                tmp_idx -= 1\n",
    "            else:\n",
    "                break\n",
    "\n",
    "        if item_insert_at != sorted_idx:\n",
    "            # 将 item_to_insert 插入到 item_insert_at 位置\n",
    "            items[item_insert_at] = item_to_insert\n",
    "\n",
    "        sorted_idx += 1\n",
    "\n",
    "    return items, []"
   ]
  },
  {
   "cell_type": "code",
   "execution_count": 4,
   "id": "256d0b86-8d1f-4660-9642-e3653f8a0ba6",
   "metadata": {},
   "outputs": [],
   "source": [
    "# run tests\n",
    "\n",
    "test_sort_funtion(insertion_sort_v1)"
   ]
  },
  {
   "cell_type": "markdown",
   "id": "da4eb684-36f1-47ae-9299-88f0538bc824",
   "metadata": {},
   "source": [
    "## 使用二分查找优化\n",
    "\n",
    "上面的排序方式，每次从后往前寻找合适的插入位置的过程，可以使用二分查找的方式优化"
   ]
  },
  {
   "cell_type": "code",
   "execution_count": 5,
   "id": "20b13485-f761-4eed-85ee-702efb2df976",
   "metadata": {},
   "outputs": [],
   "source": [
    "def insertion_sort_v2(items):\n",
    "    \"\"\"插入排序v2\n",
    "    \"\"\"\n",
    "    len_ = len(items)\n",
    "    # sorted_idx 左侧的是已排序的部分，sorted_idx 及右侧是未排序的部分\n",
    "    sorted_idx = 0\n",
    "    while sorted_idx < len_:\n",
    "\n",
    "        item_to_insert = items[sorted_idx]  # sorted_idx 处的元素将被插入其左侧已排序部分中\n",
    "        item_insert_at = sorted_idx         # 默认值\n",
    "\n",
    "        # 使用二分查找寻找合适的插入位置\n",
    "        lo = 0\n",
    "        hi = sorted_idx\n",
    "        exist = False\n",
    "        while lo < hi:\n",
    "            mid = lo + (hi - lo) // 2\n",
    "            if item_to_insert < items[mid]:\n",
    "                hi = mid\n",
    "            elif item_to_insert > items[mid]:\n",
    "                lo = mid + 1\n",
    "            else:\n",
    "                exist = True\n",
    "                item_insert_at = mid\n",
    "                break\n",
    "\n",
    "        if not exist:\n",
    "            item_insert_at = lo\n",
    "\n",
    "        # 将 item_to_insert 插入到 item_insert_at 位置\n",
    "        if item_insert_at != sorted_idx:\n",
    "            tmp_idx = sorted_idx - 1\n",
    "            # 将 item_insert_at ~ sorted_idx 之间的位置整体右移\n",
    "            while tmp_idx >= item_insert_at:\n",
    "                items[tmp_idx + 1] = items[tmp_idx]\n",
    "                tmp_idx -= 1\n",
    "            items[item_insert_at] = item_to_insert\n",
    "\n",
    "        # 处理 sorted_idx+1 的元素\n",
    "        sorted_idx += 1\n",
    "\n",
    "    return items, []"
   ]
  },
  {
   "cell_type": "code",
   "execution_count": 6,
   "id": "14ce0c0e-1fc3-427e-bcca-468966451aa8",
   "metadata": {},
   "outputs": [],
   "source": [
    "# run tests\n",
    "\n",
    "test_sort_funtion(insertion_sort_v2)"
   ]
  }
 ],
 "metadata": {
  "interpreter": {
   "hash": "6087c5b07d96623ecdaf3d87bd694cd0358f7f4e8081055d346dcf812d3740ca"
  },
  "kernelspec": {
   "display_name": "Python 3.9.6 64-bit ('venv': venv)",
   "name": "python3"
  },
  "language_info": {
   "codemirror_mode": {
    "name": "ipython",
    "version": 3
   },
   "file_extension": ".py",
   "mimetype": "text/x-python",
   "name": "python",
   "nbconvert_exporter": "python",
   "pygments_lexer": "ipython3",
   "version": "3.9.6"
  }
 },
 "nbformat": 4,
 "nbformat_minor": 5
}
