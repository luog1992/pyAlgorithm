{
 "cells": [
  {
   "cell_type": "markdown",
   "id": "48d12d09-0e00-496b-bf48-3fb76f9994e0",
   "metadata": {},
   "source": [
    "# 跳跃表简单版本"
   ]
  },
  {
   "cell_type": "code",
   "execution_count": 1,
   "id": "31b57e3b-aa5f-418f-8b7d-95e6a52705d9",
   "metadata": {},
   "outputs": [],
   "source": [
    "import random\n",
    "from collections import defaultdict"
   ]
  },
  {
   "cell_type": "markdown",
   "id": "ed826cf6-4e8c-4e4e-b24b-b1631f227ebf",
   "metadata": {},
   "source": [
    "![](https://raw.githubusercontent.com/luog1992/ipic/master/20211111014718.png)"
   ]
  },
  {
   "cell_type": "code",
   "execution_count": 2,
   "id": "19f05641-63f1-4cc7-8f22-42b7137a5df9",
   "metadata": {},
   "outputs": [],
   "source": [
    "class Node(object):\n",
    "    \"\"\"跳跃表中的一个节点\"\"\"\n",
    "    \n",
    "    def __init__(self, key, val, height):\n",
    "        self.key = key\n",
    "        self.val = val\n",
    "        self.height = height\n",
    "        # 第 i 层，当前节点指向的下一个节点\n",
    "        self.nexts = [None] * height\n",
    "        # 第 i 层，当前节点与 self.nexts[i] 节点间的距离\n",
    "        self.spans = [0] * height\n",
    "\n",
    "    def __repr__(self):\n",
    "        return '<Node %s=%s>' % (self.key, self.val)\n",
    "        "
   ]
  },
  {
   "cell_type": "code",
   "execution_count": 3,
   "id": "b1eb29bd-b4f7-4f44-bac2-fb3abf67a35c",
   "metadata": {},
   "outputs": [],
   "source": [
    "class SkipList(object):\n",
    "    \"\"\"跳跃表\"\"\"\n",
    "\n",
    "    PROMOPT_P = 0.5   # 晋升概率\n",
    "    MAX_LEVEL = 4      # 最大层高\n",
    "    \n",
    "    def __init__(self):\n",
    "        self._len = 0\n",
    "        self.head = Node(None, None, self.MAX_LEVEL)\n",
    "    \n",
    "    def __len__(self):\n",
    "        return self._len\n",
    "\n",
    "    def __repr__(self):\n",
    "        return '<SkipList len=%s>' % self._len\n",
    "    \n",
    "    def _random_level(self):\n",
    "        \"\"\"根据晋升概率随机算出一个层高\n",
    "        \"\"\"\n",
    "        level = 1\n",
    "        while random.random() < self.PROMOPT_P:\n",
    "            if level >= self.MAX_LEVEL:\n",
    "                break\n",
    "            else:\n",
    "                level += 1\n",
    "        return level\n",
    "    \n",
    "    def add(self, key, value, height=None):\n",
    "        \"\"\"添加KV\n",
    "        \"\"\"\n",
    "        # 搜索路径上往下拐的 node\n",
    "        corner_nodes = []\n",
    "        # 搜索路径上，每一层经过的节点数\n",
    "        search_spans = defaultdict(int)\n",
    "\n",
    "        cur_node = self.head\n",
    "        # 自上往下遍历每一层，确定搜索路径，确定要插入的位置\n",
    "        for level in reversed(range(self.MAX_LEVEL)):\n",
    "\n",
    "            # 在每一层，只要 one_node.key < key，就尽量 \"往右\" 移动\n",
    "            while cur_node.nexts[level] and cur_node.nexts[level].key < key:\n",
    "                search_spans[level] += cur_node.spans[level]\n",
    "                cur_node = cur_node.nexts[level]\n",
    "\n",
    "            # 2. 移动到不能往右移时，加 \"往下\"，往下拐的这个 node 是之后可能需要调整链表指针的\n",
    "            corner_nodes.append((cur_node, level))\n",
    "    \n",
    "        # 循环结束后，cur_node 后面肯定是要插入新节点的位置\n",
    "        if cur_node.nexts[0] and cur_node.nexts[0].key == key: # 0: level0\n",
    "            print('node key=%s value updated from %s to %s' % (key, cur_node.nexts[0].val, value))\n",
    "            cur_node.nexts[0].val = value\n",
    "            return\n",
    "    \n",
    "        # 添加新节点\n",
    "        self._len += 1\n",
    "        height = height or self._random_level()\n",
    "        new_node = Node(key, value, height)\n",
    "\n",
    "        # 新节点只有 height 层，故需要调整 corner_nodes 中后 height 个节点的指针\n",
    "        for the_node, level in list(reversed(corner_nodes))[:height]:\n",
    "            # 修改指针\n",
    "            old_next = the_node.nexts[level]\n",
    "            old_span = the_node.spans[level]\n",
    "            new_node.nexts[level] = old_next\n",
    "            the_node.nexts[level] = new_node\n",
    "            \n",
    "            # 计算 the_node 和 new_node 之间的间距\n",
    "            the_span = sum([s for l, s in search_spans.items() if l < level])\n",
    "            the_span += 1\n",
    "            the_node.spans[level] = the_span\n",
    "            if old_next:\n",
    "                new_node.spans[level] = (old_span + 1) - the_span\n",
    "        for the_node, level in list(reversed(corner_nodes))[height:]:\n",
    "            if the_node.nexts[level]:\n",
    "                the_node.spans[level] += 1\n",
    "\n",
    "    def get(self, key):\n",
    "        \"\"\"查找key\n",
    "        \"\"\"\n",
    "        cur_node = self.head\n",
    "        for level in reversed(range(self.MAX_LEVEL)):\n",
    "            while cur_node.nexts[level] and cur_node.nexts[level].key < key:\n",
    "                cur_node = cur_node.nexts[level]\n",
    "    \n",
    "        the_node = cur_node.nexts[level]\n",
    "        if the_node and the_node.key == key:\n",
    "            return the_node.val\n",
    "        return None\n",
    "\n",
    "    def graph(self):\n",
    "        \"\"\"画出整个跳跃表\n",
    "        \"\"\"\n",
    "        for level in reversed(range(self.MAX_LEVEL)):\n",
    "            node = self.head\n",
    "            while node is not None:\n",
    "                print('%s(%s)' % (node.key, node.val), end='')\n",
    "                for i in range(node.spans[level] - 1):\n",
    "                    print('-', end='')\n",
    "                    print('%s(%s)' % ('~', '~'), end='')\n",
    "                if node.spans[level] > 0:\n",
    "                    print('-', end='')\n",
    "                node = node.nexts[level]\n",
    "            print('\\n')\n",
    "                "
   ]
  },
  {
   "cell_type": "code",
   "execution_count": 4,
   "id": "b12da3d8-1dc4-4e2d-8118-e8e9b850b7f4",
   "metadata": {},
   "outputs": [],
   "source": [
    "skip_list = SkipList()\n",
    "\n",
    "for i in range(ord('A'), ord('Z'), 2):\n",
    "    skip_list.add(chr(i), i % 10)"
   ]
  },
  {
   "cell_type": "code",
   "execution_count": 5,
   "id": "3d65e417-1dd4-444c-8a83-fd9b9581ac02",
   "metadata": {},
   "outputs": [
    {
     "name": "stdout",
     "output_type": "stream",
     "text": [
      "5\n",
      "None\n",
      "9\n"
     ]
    }
   ],
   "source": [
    "print(skip_list.get('A'))\n",
    "print(skip_list.get('B'))\n",
    "print(skip_list.get('Y'))"
   ]
  },
  {
   "cell_type": "code",
   "execution_count": 6,
   "id": "697e66a6-7848-4931-88f3-f39fc7181cb4",
   "metadata": {},
   "outputs": [
    {
     "name": "stdout",
     "output_type": "stream",
     "text": [
      "None(None)-~(~)-~(~)-~(~)-~(~)-~(~)-K(5)\n",
      "\n",
      "None(None)-A(5)-~(~)-~(~)-~(~)-~(~)-K(5)-~(~)-~(~)-~(~)-~(~)-~(~)-W(7)\n",
      "\n",
      "None(None)-A(5)-C(7)-E(9)-G(1)-~(~)-K(5)-~(~)-O(9)-Q(1)-~(~)-~(~)-W(7)\n",
      "\n",
      "None(None)-A(5)-C(7)-E(9)-G(1)-I(3)-K(5)-M(7)-O(9)-Q(1)-S(3)-U(5)-W(7)-Y(9)\n",
      "\n"
     ]
    }
   ],
   "source": [
    "skip_list.graph()"
   ]
  },
  {
   "cell_type": "code",
   "execution_count": 7,
   "id": "a71f92e2-0eb6-448d-8edf-37574a426d16",
   "metadata": {},
   "outputs": [
    {
     "name": "stdout",
     "output_type": "stream",
     "text": [
      "node key=A value updated from 5 to 55\n"
     ]
    },
    {
     "data": {
      "text/plain": [
       "55"
      ]
     },
     "execution_count": 7,
     "metadata": {},
     "output_type": "execute_result"
    }
   ],
   "source": [
    "skip_list.add('A', 55)  # modify\n",
    "skip_list.get('A')"
   ]
  },
  {
   "cell_type": "code",
   "execution_count": 8,
   "id": "59db4995-ac74-4c87-bd98-7463446ceff6",
   "metadata": {},
   "outputs": [
    {
     "data": {
      "text/plain": [
       "88"
      ]
     },
     "execution_count": 8,
     "metadata": {},
     "output_type": "execute_result"
    }
   ],
   "source": [
    "skip_list.get('N')  # None\n",
    "skip_list.add('N', 88, height=3)\n",
    "skip_list.get('N')  # 88"
   ]
  },
  {
   "cell_type": "code",
   "execution_count": 9,
   "id": "442d15c2-7ece-44d9-9928-6c8439f3d331",
   "metadata": {},
   "outputs": [
    {
     "name": "stdout",
     "output_type": "stream",
     "text": [
      "None(None)-~(~)-~(~)-~(~)-~(~)-~(~)-K(5)\n",
      "\n",
      "None(None)-A(55)-~(~)-~(~)-~(~)-~(~)-K(5)-~(~)-N(88)-~(~)-~(~)-~(~)-~(~)-W(7)\n",
      "\n",
      "None(None)-A(55)-C(7)-E(9)-G(1)-~(~)-K(5)-~(~)-N(88)-O(9)-Q(1)-~(~)-~(~)-W(7)\n",
      "\n",
      "None(None)-A(55)-C(7)-E(9)-G(1)-I(3)-K(5)-M(7)-N(88)-O(9)-Q(1)-S(3)-U(5)-W(7)-Y(9)\n",
      "\n"
     ]
    }
   ],
   "source": [
    "skip_list.graph()"
   ]
  },
  {
   "cell_type": "code",
   "execution_count": null,
   "id": "c49dad29-6b54-486a-94b0-68f7f1c24421",
   "metadata": {},
   "outputs": [],
   "source": []
  }
 ],
 "metadata": {
  "kernelspec": {
   "display_name": "Python 3 (ipykernel)",
   "language": "python",
   "name": "python3"
  },
  "language_info": {
   "codemirror_mode": {
    "name": "ipython",
    "version": 3
   },
   "file_extension": ".py",
   "mimetype": "text/x-python",
   "name": "python",
   "nbconvert_exporter": "python",
   "pygments_lexer": "ipython3",
   "version": "3.9.6"
  }
 },
 "nbformat": 4,
 "nbformat_minor": 5
}
