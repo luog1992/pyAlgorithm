{
 "cells": [
  {
   "cell_type": "markdown",
   "metadata": {},
   "source": [
    "# 桶排序\n",
    "\n",
    "Refs:\n",
    "- https://zhuanlan.zhihu.com/p/110079476\n",
    "\n",
    "**思路**\n",
    "1. 将数组中的元素依据大致大小分配到若干个桶中\n",
    "2. 对每一个桶中的元素进行排序（可以选择某种原地排序算法）\n",
    "3. 然后将各个排好序的桶合并成最终的有序结果\n",
    "\n",
    "**性能**\n",
    "1. 空间复杂度：$O(n+m)$，其中 m 为桶的数量\n",
    "2. 时间复杂度：$O(n+k)$，其中 k 为每个桶中元素个数\n",
    "3. 稳定性：✅\n",
    "4. In-place：❌\n",
    "\n",
    "**使用限制**\n",
    "1. 数组中元素范围必须在某个范围之内，且分布要相对均匀\n",
    "\n",
    "![](https://pic3.zhimg.com/80/v2-778606f734e905642bccd69c199c1582_720w.jpg)"
   ]
  },
  {
   "cell_type": "code",
   "execution_count": 1,
   "metadata": {},
   "outputs": [],
   "source": [
    "import math\n",
    "\n",
    "\n",
    "def bucket_sort(items, bucket_size=5):\n",
    "    if len(items) <= 1:\n",
    "        return items\n",
    "\n",
    "    # 判断桶内最大最小值\n",
    "    min_ = max_ = items[0]\n",
    "    for item in items:\n",
    "        if item < min_:\n",
    "            min_ = item\n",
    "        elif item > max_:\n",
    "            max_ = item\n",
    "\n",
    "    # 桶\n",
    "    bucket_num = math.ceil((max_ - min_) / bucket_size)\n",
    "    buckets = [[] for _ in range(bucket_num)]\n",
    "\n",
    "    # 将 items 分桶存放\n",
    "    for item in items:\n",
    "        bucket_idx = math.floor((item - min_) / bucket_size)\n",
    "        buckets[bucket_idx].append(item)\n",
    "\n",
    "    total = 0\n",
    "    for bucket in buckets:\n",
    "        if not bucket:\n",
    "            continue\n",
    "\n",
    "        # 对每一个桶单进行排序，此处使用插入排序，或者选用其他原地排序算法也行\n",
    "        _insert_sort(bucket)\n",
    "\n",
    "        # 将排好序的元素回填到原数组\n",
    "        for item in bucket:\n",
    "            items[total] = item\n",
    "            total += 1\n",
    "\n",
    "\n",
    "def _insert_sort(items):\n",
    "    \"\"\"插入排序\n",
    "    \"\"\"\n",
    "    len_ = len(items)\n",
    "    sorted_idx = 0\n",
    "\n",
    "    while sorted_idx < len_:\n",
    "        tmp_idx = sorted_idx - 1\n",
    "        while tmp_idx >= 0:\n",
    "            if items[tmp_idx] > items[tmp_idx + 1]:\n",
    "                items[tmp_idx], items[tmp_idx + 1] = items[tmp_idx + 1], items[tmp_idx]\n",
    "                tmp_idx -= 1\n",
    "            else:\n",
    "                break\n",
    "\n",
    "        sorted_idx += 1"
   ]
  },
  {
   "cell_type": "code",
   "execution_count": 2,
   "metadata": {},
   "outputs": [
    {
     "name": "stdout",
     "output_type": "stream",
     "text": [
      "[65, 9, 37, 7, 24, 25, 7, 62, 5, 84, 27, 59, 67, 5, 8, 42, 7]\n",
      "[5, 5, 7, 7, 7, 8, 9, 24, 25, 27, 37, 42, 59, 62, 65, 67, 84]\n"
     ]
    }
   ],
   "source": [
    "items = [65,9,37,7,24,25,7,62,5,84,27,59,67,5,8,42,7]\n",
    "print(items)\n",
    "\n",
    "bucket_sort(items)\n",
    "\n",
    "print(items)"
   ]
  },
  {
   "cell_type": "code",
   "execution_count": 3,
   "metadata": {},
   "outputs": [],
   "source": [
    "%run utils.ipynb\n",
    "\n",
    "def wrapper_bucket_sort_for_testing(items):\n",
    "    bucket_sort(items)\n",
    "    return items, []\n",
    "\n",
    "test_sort_funtion(wrapper_bucket_sort_for_testing)"
   ]
  }
 ],
 "metadata": {
  "interpreter": {
   "hash": "6087c5b07d96623ecdaf3d87bd694cd0358f7f4e8081055d346dcf812d3740ca"
  },
  "kernelspec": {
   "display_name": "Python 3.9.6 64-bit ('venv': venv)",
   "name": "python3"
  },
  "language_info": {
   "codemirror_mode": {
    "name": "ipython",
    "version": 3
   },
   "file_extension": ".py",
   "mimetype": "text/x-python",
   "name": "python",
   "nbconvert_exporter": "python",
   "pygments_lexer": "ipython3",
   "version": "3.9.6"
  },
  "orig_nbformat": 4
 },
 "nbformat": 4,
 "nbformat_minor": 2
}
