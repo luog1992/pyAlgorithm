{
 "cells": [
  {
   "cell_type": "markdown",
   "metadata": {},
   "source": [
    "# 计数排序\n",
    "\n",
    "Refs:\n",
    "- https://zhuanlan.zhihu.com/p/125126086\n",
    "\n",
    "**思路**\n",
    "- 已知列表中的元素均处于 min~max 之间\n",
    "- 准备一个计数数组、用来统计每个元素出现过的次数，计数数组长度为 max-min+1\n",
    "- 计数时，对于任意元素 x，则将计数数组中 x-min 处 +1\n",
    "- 知道了每个元素出现过的次数，剩下就比较好办了\n",
    "\n",
    "**性能**\n",
    "- 最好、最坏、平均时间复杂度：$O(n+k)$ 其中 k=max-min+1\n",
    "- 空间复杂度：$O(k)$，如果将最终结果回填到原数组中，那么排序过程中只额外占用了长度为 k 的计数数组\n",
    "- 稳定性：✅\n",
    "- In-place：❓\n"
   ]
  },
  {
   "cell_type": "code",
   "execution_count": 1,
   "metadata": {},
   "outputs": [],
   "source": [
    "def count_sort(items, min_=0, max_=20):\n",
    "    \"\"\"计数排序\n",
    "    \"\"\"\n",
    "    # 假设 items 中的元素都是 [0, 20] 之间的数\n",
    "    # counts 用来统计每个元素出现的次数\n",
    "    counts = (max_ - min_) * [0]\n",
    "\n",
    "    # 计数\n",
    "    for idx in range(len(items)):  # range 是迭代器、不用占用额外空间\n",
    "        item = items[idx]\n",
    "        assert item >= min_ and item <= max_\n",
    "\n",
    "        # item 对应的计数器在 counts 中的第 item-min_ 处\n",
    "        counts[item - min_] += 1\n",
    "\n",
    "    # set 回 items 中\n",
    "    total = 0\n",
    "    for idx in range(len(counts)):\n",
    "        item = idx + min_    # idx 处计数器对应的元素是 idx+min_\n",
    "        count = counts[idx]  # item 总共出现的次数\n",
    "        for idx in range(count):\n",
    "            items[total] = item \n",
    "            total += 1"
   ]
  },
  {
   "cell_type": "code",
   "execution_count": 2,
   "metadata": {},
   "outputs": [
    {
     "name": "stdout",
     "output_type": "stream",
     "text": [
      "[1, 2, 3, 3, 4, 4, 4, 4, 5, 5, 5, 6, 6, 7, 7, 8, 9]\n"
     ]
    }
   ],
   "source": [
    "items = [5,1,4,6,4,3,7,4,5,8,9,2,4,5,6,7,3]\n",
    "\n",
    "count_sort(items)\n",
    "\n",
    "print(items)"
   ]
  }
 ],
 "metadata": {
  "interpreter": {
   "hash": "6087c5b07d96623ecdaf3d87bd694cd0358f7f4e8081055d346dcf812d3740ca"
  },
  "kernelspec": {
   "display_name": "Python 3.9.6 64-bit ('venv': venv)",
   "name": "python3"
  },
  "language_info": {
   "codemirror_mode": {
    "name": "ipython",
    "version": 3
   },
   "file_extension": ".py",
   "mimetype": "text/x-python",
   "name": "python",
   "nbconvert_exporter": "python",
   "pygments_lexer": "ipython3",
   "version": "3.9.6"
  },
  "orig_nbformat": 4
 },
 "nbformat": 4,
 "nbformat_minor": 2
}
