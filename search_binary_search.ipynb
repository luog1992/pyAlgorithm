{
 "cells": [
  {
   "cell_type": "markdown",
   "metadata": {},
   "source": [
    "# 使用二分查找实现的Mapping"
   ]
  },
  {
   "cell_type": "code",
   "execution_count": 1,
   "metadata": {},
   "outputs": [],
   "source": [
    "%run search_base.ipynb\n",
    "%run utils.ipynb"
   ]
  },
  {
   "cell_type": "code",
   "execution_count": 2,
   "metadata": {},
   "outputs": [],
   "source": [
    "class BinarySearchMapping(MapBase):\n",
    "    \"\"\"基于二分查找实现的映射\n",
    "\n",
    "    .. note:: 参考<<算法>> P238 3.1.5小节\n",
    "\n",
    "    .. todo::\n",
    "\n",
    "        优化 :meth:`put` :meth:`_find_position`, 如给定的key不存在时,\n",
    "        二分查找应该返回 ``lo``, ``lo`` 就是列表中小于给定key的键的数量.\n",
    "    \"\"\"\n",
    "\n",
    "    def __init__(self):\n",
    "        self._keys = []\n",
    "        self._vals = []\n",
    "        self._size = 0\n",
    "\n",
    "    def __str__(self):\n",
    "        m = '\\t'.join(map(str, range(self._size))) or '[]'\n",
    "        x = '\\t'.join(map(str, self._keys)) or '[]'\n",
    "        y = '\\t'.join(map(str, self._vals)) or '[]'\n",
    "        return \"idxs: %s\\nkeys: %s\\nvals: %s\" % (m, x, y)\n",
    "\n",
    "    def size(self):\n",
    "        return self._size\n",
    "\n",
    "    def rank(self, k):\n",
    "        return binary_search_v1(self._keys, k)\n",
    "\n",
    "    def get(self, k):\n",
    "        if self.is_empty():\n",
    "            return None\n",
    "        idx = self.rank(k)\n",
    "        if idx == -1:\n",
    "            return None\n",
    "        return self._vals[idx]\n",
    "\n",
    "    def put(self, k, v):\n",
    "        if self.is_empty():\n",
    "            self._keys.append(k)\n",
    "            self._vals.append(v)\n",
    "            self._size += 1\n",
    "            return\n",
    "\n",
    "        # 二分查找, 如果key存在则更新, 否则插入\n",
    "        lo = 0\n",
    "        hi = self._size - 1\n",
    "        while lo <= hi:\n",
    "            mid = lo + (hi - lo) // 2\n",
    "            if k < self._keys[mid]:\n",
    "                hi = mid - 1\n",
    "            elif k > self._keys[mid]:\n",
    "                lo = mid + 1\n",
    "            else:\n",
    "                self._keys[mid] = k\n",
    "                self._vals[mid] = v\n",
    "                return\n",
    "\n",
    "        # key不存在, 插入新值\n",
    "        self._size += 1\n",
    "        if k > self._keys[mid]:\n",
    "            self._keys.insert(mid+1, k)\n",
    "            self._vals.insert(mid+1, v)\n",
    "        else:\n",
    "            self._keys.insert(mid, k)\n",
    "            self._vals.insert(mid, v)\n",
    "\n",
    "    def delete(self, k):\n",
    "        idx = self.rank(k)\n",
    "        if idx == -1:\n",
    "            return None\n",
    "        self._size -= 1\n",
    "        self._keys.pop(idx)\n",
    "        return self._vals.pop(idx)\n",
    "\n",
    "    def min(self):\n",
    "        return None if self.is_empty() else self._keys[0]\n",
    "\n",
    "    def max(self):\n",
    "        return None if self.is_empty() else self._keys[-1]\n",
    "\n",
    "    def _find_position(self, k):\n",
    "        \"\"\"\n",
    "        找出key的位置, 如果k存在, 返回其索引,\n",
    "        否则返回二分查找后的mid\n",
    "        \"\"\"\n",
    "        # 外层须确保映射不为空\n",
    "        lo = 0\n",
    "        hi = self._size - 1\n",
    "        while lo <= hi:\n",
    "            mid = lo + (hi - lo) // 2\n",
    "            if k < self._keys[mid]:\n",
    "                hi = mid - 1\n",
    "            elif k > self._keys[mid]:\n",
    "                lo = mid + 1\n",
    "            else:\n",
    "                return True, mid\n",
    "        return False, mid\n",
    "\n",
    "    def keys_between(self, k1, k2, size=False):\n",
    "        if self.is_empty():\n",
    "            return 0 if size else []\n",
    "\n",
    "        assert k1 <= k2\n",
    "\n",
    "        k1_exist, idx1 = self._find_position(k1)\n",
    "        if not k1_exist:\n",
    "            if k1 < self._keys[idx1]: idx1 += 0\n",
    "            else:                     idx1 += 1\n",
    "\n",
    "        k2_exist, idx2 = self._find_position(k2)\n",
    "        if not k2_exist:\n",
    "            if k2 < self._keys[idx2]: idx2 -= 1\n",
    "            else:                     idx2 -= 0\n",
    "\n",
    "        if size: return idx2 + 1 - idx1\n",
    "        return self._keys[idx1: idx2+1]\n",
    "\n",
    "    def floor(self, k):\n",
    "        if self.is_empty(): return None\n",
    "        exist, pos = self._find_position(k)\n",
    "        if not exist:\n",
    "            if k > self._keys[pos]:   pos += 1\n",
    "            else:                     pos += 0\n",
    "\n",
    "        return self._keys[pos-1] if pos > 0 else None\n",
    "\n",
    "    def ceiling(self, k):\n",
    "        if self.is_empty(): return None\n",
    "        exist, pos = self._find_position(k)\n",
    "        if not exist:\n",
    "            if k < self._keys[pos]:   pos -= 1\n",
    "            else:                     pos -= 0\n",
    "\n",
    "        if pos+1 == self.size():\n",
    "            return None\n",
    "        return self._keys[pos+1]\n",
    "\n",
    "    def select(self, n):\n",
    "        # 当key不存在时, self.rank(k) == -1\n",
    "        # 暂不考虑python中的负索引的情况\n",
    "        if n == -1: return None\n",
    "        return self._keys[n]\n",
    "\n",
    "    def size_between(self, k1, k2):\n",
    "        return self.keys_between(k1, k2, True)"
   ]
  },
  {
   "cell_type": "code",
   "execution_count": 3,
   "metadata": {},
   "outputs": [],
   "source": [
    "tester = MappingTest(BinarySearchMapping)"
   ]
  },
  {
   "cell_type": "code",
   "execution_count": 4,
   "metadata": {},
   "outputs": [],
   "source": [
    "# 测试mapping为空的情况\n",
    "empty_map = BinarySearchMapping()"
   ]
  },
  {
   "cell_type": "code",
   "execution_count": 5,
   "metadata": {},
   "outputs": [
    {
     "name": "stdout",
     "output_type": "stream",
     "text": [
      "idxs: []\n",
      "keys: []\n",
      "vals: []\n",
      "\n",
      "size:  0\n",
      "keys:  []\n"
     ]
    }
   ],
   "source": [
    "tester.test_map_related(empty_map)"
   ]
  },
  {
   "cell_type": "code",
   "execution_count": 6,
   "metadata": {},
   "outputs": [
    {
     "name": "stdout",
     "output_type": "stream",
     "text": [
      "idxs: []\n",
      "keys: []\n",
      "vals: []\n",
      "\n",
      "key\texist\tget\trank\tselect\tfloor\tceil\n",
      "g\tFalse\tNone\t-1\tNone\tNone\tNone\t\n",
      "a\tFalse\tNone\t-1\tNone\tNone\tNone\t\n",
      "t\tFalse\tNone\t-1\tNone\tNone\tNone\t\n",
      "c\tFalse\tNone\t-1\tNone\tNone\tNone\t\n",
      "0\tFalse\tNone\t-1\tNone\tNone\tNone\t\n",
      "z\tFalse\tNone\t-1\tNone\tNone\tNone\t\n"
     ]
    }
   ],
   "source": [
    "tester.test_single_key(empty_map)"
   ]
  },
  {
   "cell_type": "code",
   "execution_count": 7,
   "metadata": {},
   "outputs": [
    {
     "name": "stdout",
     "output_type": "stream",
     "text": [
      "idxs: []\n",
      "keys: []\n",
      "vals: []\n",
      "\n",
      "('g', 'g') 0 []\n",
      "('g', 'p') 0 []\n",
      "('a', 't') 0 []\n",
      "('a', 'z') 0 []\n",
      "('0', 't') 0 []\n",
      "('0', 'z') 0 []\n"
     ]
    }
   ],
   "source": [
    "tester.test_key_range(empty_map)"
   ]
  },
  {
   "cell_type": "code",
   "execution_count": 8,
   "metadata": {},
   "outputs": [
    {
     "name": "stdout",
     "output_type": "stream",
     "text": [
      "idxs: 0\t1\t2\t3\t4\t5\t6\t7\t8\n",
      "keys: a\te\tg\ti\tm\tn\tp\ts\tt\n",
      "vals: 5\t1\t10\t8\t4\t9\t7\t2\t3\n",
      "\n",
      "size:  9\n",
      "keys:  ['a', 'e', 'g', 'i', 'm', 'n', 'p', 's', 't']\n"
     ]
    }
   ],
   "source": [
    "# 测试mapping不为空的情况\n",
    "tester.test_map_related()"
   ]
  },
  {
   "cell_type": "code",
   "execution_count": 9,
   "metadata": {},
   "outputs": [
    {
     "name": "stdout",
     "output_type": "stream",
     "text": [
      "idxs: 0\t1\t2\t3\t4\t5\t6\t7\t8\n",
      "keys: a\te\tg\ti\tm\tn\tp\ts\tt\n",
      "vals: 5\t1\t10\t8\t4\t9\t7\t2\t3\n",
      "\n",
      "key\texist\tget\trank\tselect\tfloor\tceil\n",
      "g\tTrue\t10\t2\tg\te\ti\t\n",
      "a\tTrue\t5\t0\ta\tNone\te\t\n",
      "t\tTrue\t3\t8\tt\ts\tNone\t\n",
      "c\tFalse\tNone\t-1\tNone\ta\te\t\n",
      "0\tFalse\tNone\t-1\tNone\tNone\ta\t\n",
      "z\tFalse\tNone\t-1\tNone\tt\tNone\t\n"
     ]
    }
   ],
   "source": [
    "tester.test_single_key()"
   ]
  },
  {
   "cell_type": "code",
   "execution_count": 10,
   "metadata": {},
   "outputs": [
    {
     "name": "stdout",
     "output_type": "stream",
     "text": [
      "idxs: 0\t1\t2\t3\t4\t5\t6\t7\t8\n",
      "keys: a\te\tg\ti\tm\tn\tp\ts\tt\n",
      "vals: 5\t1\t10\t8\t4\t9\t7\t2\t3\n",
      "\n",
      "('g', 'g') 1 ['g']\n",
      "('g', 'p') 5 ['g', 'i', 'm', 'n', 'p']\n",
      "('a', 't') 9 ['a', 'e', 'g', 'i', 'm', 'n', 'p', 's', 't']\n",
      "('a', 'z') 9 ['a', 'e', 'g', 'i', 'm', 'n', 'p', 's', 't']\n",
      "('0', 't') 9 ['a', 'e', 'g', 'i', 'm', 'n', 'p', 's', 't']\n",
      "('0', 'z') 9 ['a', 'e', 'g', 'i', 'm', 'n', 'p', 's', 't']\n"
     ]
    }
   ],
   "source": [
    "tester.test_key_range()"
   ]
  },
  {
   "cell_type": "code",
   "execution_count": 11,
   "metadata": {},
   "outputs": [
    {
     "name": "stdout",
     "output_type": "stream",
     "text": [
      "idxs: []\n",
      "keys: []\n",
      "vals: []\n",
      "\n",
      "del a:  None\n",
      "\n",
      "idxs: 0\n",
      "keys: a\n",
      "vals: 1\n",
      "\n",
      "del a:  1\n",
      "del a:  None\n",
      "\n",
      "idxs: []\n",
      "keys: []\n",
      "vals: []\n"
     ]
    }
   ],
   "source": [
    "tester.test_delete()"
   ]
  }
 ],
 "metadata": {
  "kernelspec": {
   "display_name": "scientific",
   "language": "python",
   "name": "scientific"
  },
  "language_info": {
   "codemirror_mode": {
    "name": "ipython",
    "version": 3
   },
   "file_extension": ".py",
   "mimetype": "text/x-python",
   "name": "python",
   "nbconvert_exporter": "python",
   "pygments_lexer": "ipython3",
   "version": "3.6.5"
  }
 },
 "nbformat": 4,
 "nbformat_minor": 2
}
