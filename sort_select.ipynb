{
 "cells": [
  {
   "cell_type": "markdown",
   "id": "387344d3-6d05-4001-a3e3-0bb7a302f1fe",
   "metadata": {},
   "source": [
    "# 选择排序\n",
    "\n",
    "**思路**\n",
    "- 整体上待排序列表看成两部分，左侧是已排序部分、右侧是待排序部分\n",
    "- 不断循环，每次在待排序部分中找到最小的元素，放在已排序部分末尾\n",
    "\n",
    "**性能**\n",
    "- 最坏时间复杂度 $O(n^2)$\n",
    "- 平均时间复杂度 $O(n^2)$\n",
    "- 空间复杂的：$O(1)$\n",
    "- 稳定性：差\n",
    "- In-place：是"
   ]
  },
  {
   "cell_type": "code",
   "execution_count": 1,
   "id": "044f53e0-7780-4396-a4fb-1af6c7156a2a",
   "metadata": {},
   "outputs": [],
   "source": [
    "%run utils.ipynb"
   ]
  },
  {
   "cell_type": "code",
   "execution_count": 2,
   "metadata": {},
   "outputs": [],
   "source": [
    "def select_sort(items):\n",
    "    len_ = len(items)\n",
    "    cursor = 0\n",
    "    # 从左往右移动 cursor，不断将右侧里面最小的元素放到 cursor 处\n",
    "    while cursor < len_:\n",
    "        # 找到 cursor 右侧列表中最小的元素\n",
    "        min_item_idx = cursor\n",
    "        tmp_idx = cursor\n",
    "        while tmp_idx < len_:\n",
    "            if items[tmp_idx] < items[min_item_idx]:\n",
    "                min_item_idx = tmp_idx\n",
    "            tmp_idx += 1\n",
    "\n",
    "        # 将最小的元素交换到 cursor 处\n",
    "        if min_item_idx != cursor:\n",
    "            items[cursor], items[min_item_idx] = items[min_item_idx], items[cursor]\n",
    "        cursor += 1\n",
    "\n",
    "    return items, []"
   ]
  },
  {
   "cell_type": "code",
   "execution_count": 3,
   "id": "ebdb4c2a-20a1-4b4e-a7bf-2cb92934a123",
   "metadata": {},
   "outputs": [],
   "source": [
    "# run test\n",
    "test_sort_funtion(select_sort)"
   ]
  }
 ],
 "metadata": {
  "interpreter": {
   "hash": "6087c5b07d96623ecdaf3d87bd694cd0358f7f4e8081055d346dcf812d3740ca"
  },
  "kernelspec": {
   "display_name": "Python 3.9.6 64-bit ('venv': venv)",
   "name": "python3"
  },
  "language_info": {
   "codemirror_mode": {
    "name": "ipython",
    "version": 3
   },
   "file_extension": ".py",
   "mimetype": "text/x-python",
   "name": "python",
   "nbconvert_exporter": "python",
   "pygments_lexer": "ipython3",
   "version": "3.9.6"
  }
 },
 "nbformat": 4,
 "nbformat_minor": 5
}
