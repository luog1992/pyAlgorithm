{
 "cells": [
  {
   "cell_type": "markdown",
   "metadata": {},
   "source": [
    "# 快速排序\n",
    "\n",
    "Refs:\n",
    "- https://www.cnblogs.com/onepixel/articles/7674659.html\n",
    "\n",
    "- 最坏时间复杂度：$O(n^2)$\n",
    "- 平均时间复杂度：$O(nlog(n))$\n",
    "- 空间复杂度：$O(log(n))$\n",
    "- 稳定性：不稳定\n",
    "- In-place：是\n",
    "\n",
    "思路：\n",
    "1. 取列表中的一个元素作为**基准(pivot)**（一般取最左侧的即可）\n",
    "2. 将列表中小于 pivot 的放到左侧、大于等 pivot 的放到右侧\n",
    "3. 这样经过一次处理后，左侧的都小于 pivot，右侧的都大于等于 pivot\n",
    "4. 然后**递归**的对左侧和右侧的分别排序，最终达到整体有序"
   ]
  },
  {
   "cell_type": "code",
   "execution_count": 1,
   "metadata": {},
   "outputs": [],
   "source": [
    "%run utils.ipynb"
   ]
  },
  {
   "cell_type": "code",
   "execution_count": 2,
   "metadata": {},
   "outputs": [],
   "source": [
    "def quick_sort(items):\n",
    "    if len(items) <= 1:\n",
    "        return items, []\n",
    "\n",
    "    _quick_sort(items, 0, len(items) - 1)\n",
    "    return items, []\n",
    "\n",
    "\n",
    "def _quick_sort(items, lo, hi):\n",
    "    if lo < hi:\n",
    "        pivot_index = partition_by_pivot(items, lo, hi)\n",
    "        _quick_sort(items, lo, pivot_index - 1)  # 递归排序 pivot_index 左侧的\n",
    "        _quick_sort(items, pivot_index + 1, hi)  # 递归排序 pivot_index 右侧的\n",
    "    return items\n",
    "\n",
    "\n",
    "def partition_by_pivot(items, lo, hi):\n",
    "    assert lo < hi\n",
    "\n",
    "    pivot_idx = lo\n",
    "    pivot = items[pivot_idx]   # 默认把 lo 处的元素当做基准\n",
    "\n",
    "    # 遍历处理 pivot_idx 右边的元素，将小于 pivot 的放在左侧、大于等于的放在右侧\n",
    "    # 精华：使用双游标、确保了空间复杂度 O(1) !!!\n",
    "    marker = lo + 1   # 将小于 pivot 的放到 marker 左侧\n",
    "    cursor = marker\n",
    "    while cursor <= hi:\n",
    "        if items[cursor] < pivot:\n",
    "            items[marker], items[cursor] = items[cursor], items[marker]\n",
    "            marker += 1 \n",
    "        cursor += 1\n",
    "\n",
    "    # 将 pivot 交换到 pivot_idx_new 处，这样一来 pivot 左侧的肯定比 pivot 小，右侧的则肯定大于等于 pivot\n",
    "    pivot_idx_new = marker - 1\n",
    "    items[pivot_idx], items[pivot_idx_new] = items[pivot_idx_new], items[pivot_idx]\n",
    "    return pivot_idx_new\n"
   ]
  },
  {
   "cell_type": "code",
   "execution_count": 3,
   "metadata": {},
   "outputs": [],
   "source": [
    "test_sort_funtion(quick_sort)"
   ]
  }
 ],
 "metadata": {
  "interpreter": {
   "hash": "6087c5b07d96623ecdaf3d87bd694cd0358f7f4e8081055d346dcf812d3740ca"
  },
  "kernelspec": {
   "display_name": "Python 3.9.6 64-bit ('venv': venv)",
   "name": "python3"
  },
  "language_info": {
   "codemirror_mode": {
    "name": "ipython",
    "version": 3
   },
   "file_extension": ".py",
   "mimetype": "text/x-python",
   "name": "python",
   "nbconvert_exporter": "python",
   "pygments_lexer": "ipython3",
   "version": "3.9.6"
  },
  "orig_nbformat": 4
 },
 "nbformat": 4,
 "nbformat_minor": 2
}
